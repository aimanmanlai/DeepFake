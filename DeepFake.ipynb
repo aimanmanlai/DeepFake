{
  "nbformat": 4,
  "nbformat_minor": 0,
  "metadata": {
    "accelerator": "GPU",
    "colab": {
      "name": "DeepFake",
      "provenance": [],
      "toc_visible": true,
      "include_colab_link": true
    },
    "kernelspec": {
      "display_name": "Python 3",
      "name": "python3"
    },
    "language_info": {
      "name": "python"
    }
  },
  "cells": [
    {
      "cell_type": "markdown",
      "metadata": {
        "id": "view-in-github",
        "colab_type": "text"
      },
      "source": [
        "<a href=\"https://colab.research.google.com/github/aimanmanlai/DeepFake/blob/main/DeepFake.ipynb\" target=\"_parent\"><img src=\"https://colab.research.google.com/assets/colab-badge.svg\" alt=\"Open In Colab\"/></a>"
      ]
    },
    {
      "cell_type": "code",
      "metadata": {
        "colab": {
          "base_uri": "https://localhost:8080/"
        },
        "id": "bM4v7V53NccC",
        "outputId": "e594de65-5f53-4cf2-f444-f0926ca06b91"
      },
      "source": [
        "!pip install keras_vggface\n",
        "!pip install opencv-python\n",
        "!pip install --user tqdm\n",
        "!pip install Keras-Applications"
      ],
      "execution_count": 1,
      "outputs": [
        {
          "output_type": "stream",
          "text": [
            "Collecting keras_vggface\n",
            "  Downloading https://files.pythonhosted.org/packages/2f/7d/5f0319ebdc09ac1a2272364fa9583f5067b6f8aff93fbbf8835d81cbaad7/keras_vggface-0.6-py3-none-any.whl\n",
            "Requirement already satisfied: six>=1.9.0 in /usr/local/lib/python3.7/dist-packages (from keras_vggface) (1.15.0)\n",
            "Requirement already satisfied: h5py in /usr/local/lib/python3.7/dist-packages (from keras_vggface) (2.10.0)\n",
            "Requirement already satisfied: pillow in /usr/local/lib/python3.7/dist-packages (from keras_vggface) (7.1.2)\n",
            "Requirement already satisfied: keras in /usr/local/lib/python3.7/dist-packages (from keras_vggface) (2.4.3)\n",
            "Requirement already satisfied: numpy>=1.9.1 in /usr/local/lib/python3.7/dist-packages (from keras_vggface) (1.19.5)\n",
            "Requirement already satisfied: scipy>=0.14 in /usr/local/lib/python3.7/dist-packages (from keras_vggface) (1.4.1)\n",
            "Requirement already satisfied: pyyaml in /usr/local/lib/python3.7/dist-packages (from keras_vggface) (3.13)\n",
            "Installing collected packages: keras-vggface\n",
            "Successfully installed keras-vggface-0.6\n",
            "Requirement already satisfied: opencv-python in /usr/local/lib/python3.7/dist-packages (4.1.2.30)\n",
            "Requirement already satisfied: numpy>=1.14.5 in /usr/local/lib/python3.7/dist-packages (from opencv-python) (1.19.5)\n",
            "Requirement already satisfied: tqdm in /usr/local/lib/python3.7/dist-packages (4.41.1)\n",
            "Collecting Keras-Applications\n",
            "\u001b[?25l  Downloading https://files.pythonhosted.org/packages/71/e3/19762fdfc62877ae9102edf6342d71b28fbfd9dea3d2f96a882ce099b03f/Keras_Applications-1.0.8-py3-none-any.whl (50kB)\n",
            "\u001b[K     |████████████████████████████████| 51kB 4.4MB/s \n",
            "\u001b[?25hRequirement already satisfied: h5py in /usr/local/lib/python3.7/dist-packages (from Keras-Applications) (2.10.0)\n",
            "Requirement already satisfied: numpy>=1.9.1 in /usr/local/lib/python3.7/dist-packages (from Keras-Applications) (1.19.5)\n",
            "Requirement already satisfied: six in /usr/local/lib/python3.7/dist-packages (from h5py->Keras-Applications) (1.15.0)\n",
            "Installing collected packages: Keras-Applications\n",
            "Successfully installed Keras-Applications-1.0.8\n"
          ],
          "name": "stdout"
        }
      ]
    },
    {
      "cell_type": "code",
      "metadata": {
        "id": "VPpeJCWewMCD",
        "colab": {
          "base_uri": "https://localhost:8080/"
        },
        "outputId": "50382e93-2e57-4247-a751-8a5dc1c4841d"
      },
      "source": [
        "from google.colab import drive\n",
        "drive.mount('/content/drive')"
      ],
      "execution_count": 2,
      "outputs": [
        {
          "output_type": "stream",
          "text": [
            "Mounted at /content/drive\n"
          ],
          "name": "stdout"
        }
      ]
    },
    {
      "cell_type": "markdown",
      "metadata": {
        "id": "xd_HlF2swEyz"
      },
      "source": [
        "# New Section"
      ]
    },
    {
      "cell_type": "code",
      "metadata": {
        "id": "LRSJ5834Ow9T"
      },
      "source": [
        "%matplotlib inline\n",
        "import matplotlib.pyplot as plt\n",
        "from PIL import Image\n",
        "import numpy as np\n",
        "import math\n",
        "import copy\n",
        "import numpy as np\n",
        "\n",
        "from keras.models import Sequential, Model\n",
        "from keras.layers import Input, Dense, Flatten, Dropout, Activation, Lambda, Permute, Reshape\n",
        "from keras.layers import Convolution2D, ZeroPadding2D, MaxPooling2D\n",
        "from keras_vggface.vggface import VGGFace\n",
        "from keras_vggface import utils\n",
        "from keras.preprocessing import image\n",
        "from keras.preprocessing.image import ImageDataGenerator\n",
        "\n",
        "from sklearn.datasets import load_files       \n",
        "from keras.utils import np_utils\n",
        "import numpy as np\n",
        "from glob import glob\n",
        "import pandas as pd\n",
        "import cv2\n",
        "import scipy.misc\n",
        "import matplotlib.pyplot as plt\n",
        "from tqdm import tqdm\n"
      ],
      "execution_count": 3,
      "outputs": []
    },
    {
      "cell_type": "code",
      "metadata": {
        "colab": {
          "base_uri": "https://localhost:8080/"
        },
        "id": "rWJJsSz0dJIo",
        "outputId": "dbc28748-2044-4a0c-b9f2-19c4e351a858"
      },
      "source": [
        "base_path = '/content/drive/MyDrive/deepfake/'\n",
        "image_gen = ImageDataGenerator(rescale=1./255.)\n",
        "batch_size = 32\n",
        "\n",
        "train_flow = image_gen.flow_from_directory(\n",
        "    base_path + 'development/',\n",
        "    target_size=(512, 512),\n",
        "    batch_size=batch_size,\n",
        "    class_mode='binary'\n",
        ")\n",
        "\n",
        "valid_flow = image_gen.flow_from_directory(\n",
        "    base_path + 'validation/',\n",
        "    target_size=(512, 512),\n",
        "    batch_size=batch_size,\n",
        "    class_mode='binary'\n",
        ")\n",
        "test_flow = image_gen.flow_from_directory(\n",
        "    base_path + 'evaluation/',\n",
        "    target_size=(512, 512),\n",
        "    batch_size=1,\n",
        "    shuffle=False,\n",
        "    class_mode='binary'\n",
        ")"
      ],
      "execution_count": 4,
      "outputs": [
        {
          "output_type": "stream",
          "text": [
            "Found 760 images belonging to 2 classes.\n",
            "Found 120 images belonging to 1 classes.\n",
            "Found 210 images belonging to 2 classes.\n"
          ],
          "name": "stdout"
        }
      ]
    },
    {
      "cell_type": "code",
      "metadata": {
        "colab": {
          "base_uri": "https://localhost:8080/"
        },
        "id": "8x_2VnoVhSGW",
        "outputId": "535a7514-2458-46b3-80c6-48b373538378"
      },
      "source": [
        "from keras.layers import Conv2D, MaxPooling2D, GlobalAveragePooling2D\n",
        "from keras.layers import Dropout, Flatten, Dense\n",
        "from keras.models import Sequential\n",
        "from keras.layers.normalization import BatchNormalization\n",
        "\"\"\"\n",
        "    Propsoed CNN architecture.\n",
        "    \n",
        "\"\"\"\n",
        "\n",
        "model = Sequential()\n",
        "\n",
        "# Pamameters Initialization\n",
        "input_shape = (512,512,3)\n",
        "activation = 'relu'\n",
        "padding = 'same'\n",
        "droprate = 0.1\n",
        "epsilon=0.0001\n",
        "\n",
        "model = Sequential()\n",
        "model.add(BatchNormalization(input_shape=input_shape))\n",
        "model.add(Conv2D(filters=16, kernel_size=3, activation=activation, padding=padding))\n",
        "model.add(MaxPooling2D(pool_size=2))\n",
        "model.add(BatchNormalization(epsilon=epsilon))\n",
        "\n",
        "model.add(Conv2D(filters=32, kernel_size=3, activation=activation, padding=padding))\n",
        "model.add(MaxPooling2D(pool_size=2))\n",
        "model.add(BatchNormalization(epsilon=epsilon))\n",
        "model.add(Dropout(droprate))\n",
        "\n",
        "model.add(Conv2D(filters=64, kernel_size=3, activation=activation, padding=padding))\n",
        "model.add(MaxPooling2D(pool_size=2))\n",
        "model.add(BatchNormalization(epsilon=epsilon))\n",
        "model.add(Dropout(droprate))\n",
        "\n",
        "model.add(Conv2D(filters=128, kernel_size=3, activation=activation, padding=padding))\n",
        "model.add(MaxPooling2D(pool_size=2))\n",
        "model.add(BatchNormalization(epsilon=epsilon))\n",
        "model.add(Dropout(droprate))\n",
        "\n",
        "model.add(Conv2D(filters=256, kernel_size=3, activation=activation, padding=padding))\n",
        "model.add(MaxPooling2D(pool_size=2))\n",
        "model.add(BatchNormalization(epsilon=epsilon))\n",
        "model.add(Dropout(droprate))\n",
        "\n",
        "model.add(Conv2D(filters=512, kernel_size=3, activation=activation, padding=padding))\n",
        "model.add(MaxPooling2D(pool_size=2))\n",
        "model.add(BatchNormalization(epsilon=epsilon))\n",
        "model.add(Dropout(droprate))\n",
        "\n",
        "model.add(GlobalAveragePooling2D())\n",
        "model.add(Flatten())\n",
        "model.add(Dense(256, kernel_initializer='glorot_normal', activation='relu'))\n",
        "model.add(Dropout(0.5))\n",
        "          \n",
        "model.add(Dense(128, kernel_initializer='glorot_normal', activation='relu'))\n",
        "model.add(Dropout(0.5))\n",
        "model.add(Dropout(droprate))\n",
        "model.add(Dense(1, activation='sigmoid'))\n",
        "\n",
        "model.summary() # Summary of the architecture"
      ],
      "execution_count": 6,
      "outputs": [
        {
          "output_type": "stream",
          "text": [
            "Model: \"sequential_3\"\n",
            "_________________________________________________________________\n",
            "Layer (type)                 Output Shape              Param #   \n",
            "=================================================================\n",
            "batch_normalization_7 (Batch (None, 512, 512, 3)       12        \n",
            "_________________________________________________________________\n",
            "conv2d_6 (Conv2D)            (None, 512, 512, 16)      448       \n",
            "_________________________________________________________________\n",
            "max_pooling2d_6 (MaxPooling2 (None, 256, 256, 16)      0         \n",
            "_________________________________________________________________\n",
            "batch_normalization_8 (Batch (None, 256, 256, 16)      64        \n",
            "_________________________________________________________________\n",
            "conv2d_7 (Conv2D)            (None, 256, 256, 32)      4640      \n",
            "_________________________________________________________________\n",
            "max_pooling2d_7 (MaxPooling2 (None, 128, 128, 32)      0         \n",
            "_________________________________________________________________\n",
            "batch_normalization_9 (Batch (None, 128, 128, 32)      128       \n",
            "_________________________________________________________________\n",
            "dropout_8 (Dropout)          (None, 128, 128, 32)      0         \n",
            "_________________________________________________________________\n",
            "conv2d_8 (Conv2D)            (None, 128, 128, 64)      18496     \n",
            "_________________________________________________________________\n",
            "max_pooling2d_8 (MaxPooling2 (None, 64, 64, 64)        0         \n",
            "_________________________________________________________________\n",
            "batch_normalization_10 (Batc (None, 64, 64, 64)        256       \n",
            "_________________________________________________________________\n",
            "dropout_9 (Dropout)          (None, 64, 64, 64)        0         \n",
            "_________________________________________________________________\n",
            "conv2d_9 (Conv2D)            (None, 64, 64, 128)       73856     \n",
            "_________________________________________________________________\n",
            "max_pooling2d_9 (MaxPooling2 (None, 32, 32, 128)       0         \n",
            "_________________________________________________________________\n",
            "batch_normalization_11 (Batc (None, 32, 32, 128)       512       \n",
            "_________________________________________________________________\n",
            "dropout_10 (Dropout)         (None, 32, 32, 128)       0         \n",
            "_________________________________________________________________\n",
            "conv2d_10 (Conv2D)           (None, 32, 32, 256)       295168    \n",
            "_________________________________________________________________\n",
            "max_pooling2d_10 (MaxPooling (None, 16, 16, 256)       0         \n",
            "_________________________________________________________________\n",
            "batch_normalization_12 (Batc (None, 16, 16, 256)       1024      \n",
            "_________________________________________________________________\n",
            "dropout_11 (Dropout)         (None, 16, 16, 256)       0         \n",
            "_________________________________________________________________\n",
            "conv2d_11 (Conv2D)           (None, 16, 16, 512)       1180160   \n",
            "_________________________________________________________________\n",
            "max_pooling2d_11 (MaxPooling (None, 8, 8, 512)         0         \n",
            "_________________________________________________________________\n",
            "batch_normalization_13 (Batc (None, 8, 8, 512)         2048      \n",
            "_________________________________________________________________\n",
            "dropout_12 (Dropout)         (None, 8, 8, 512)         0         \n",
            "_________________________________________________________________\n",
            "global_average_pooling2d_1 ( (None, 512)               0         \n",
            "_________________________________________________________________\n",
            "flatten_1 (Flatten)          (None, 512)               0         \n",
            "_________________________________________________________________\n",
            "dense_3 (Dense)              (None, 256)               131328    \n",
            "_________________________________________________________________\n",
            "dropout_13 (Dropout)         (None, 256)               0         \n",
            "_________________________________________________________________\n",
            "dense_4 (Dense)              (None, 128)               32896     \n",
            "_________________________________________________________________\n",
            "dropout_14 (Dropout)         (None, 128)               0         \n",
            "_________________________________________________________________\n",
            "dropout_15 (Dropout)         (None, 128)               0         \n",
            "_________________________________________________________________\n",
            "dense_5 (Dense)              (None, 1)                 129       \n",
            "=================================================================\n",
            "Total params: 1,741,165\n",
            "Trainable params: 1,739,143\n",
            "Non-trainable params: 2,022\n",
            "_________________________________________________________________\n"
          ],
          "name": "stdout"
        }
      ]
    },
    {
      "cell_type": "code",
      "metadata": {
        "id": "odV28AfbhfdO"
      },
      "source": [
        "# Parameters Initialization\n",
        "from keras.optimizers import RMSprop,SGD,Adam,Adadelta\n",
        "\n",
        "#opt = rmsprop(lr=0.0001, decay=1e-6)\n",
        "\n",
        "model.compile(loss='binary_crossentropy',optimizer=Adam(0.0001), metrics=['accuracy'])"
      ],
      "execution_count": 7,
      "outputs": []
    },
    {
      "cell_type": "code",
      "metadata": {
        "colab": {
          "base_uri": "https://localhost:8080/"
        },
        "id": "3XeaX0smhlvC",
        "outputId": "07f23031-ba75-4f65-a1fc-04a7c96f39e7"
      },
      "source": [
        "train_steps = 400//batch_size\n",
        "valid_steps = 50//batch_size\n",
        "history = model.fit_generator(\n",
        "    train_flow,\n",
        "    epochs=100,\n",
        "    steps_per_epoch = train_steps,\n",
        "    validation_data = valid_flow,\n",
        "    validation_steps = valid_steps\n",
        ")"
      ],
      "execution_count": 8,
      "outputs": [
        {
          "output_type": "stream",
          "text": [
            "/usr/local/lib/python3.7/dist-packages/tensorflow/python/keras/engine/training.py:1844: UserWarning: `Model.fit_generator` is deprecated and will be removed in a future version. Please use `Model.fit`, which supports generators.\n",
            "  warnings.warn('`Model.fit_generator` is deprecated and '\n"
          ],
          "name": "stderr"
        },
        {
          "output_type": "stream",
          "text": [
            "Epoch 1/100\n",
            "12/12 [==============================] - 168s 11s/step - loss: 0.7660 - accuracy: 0.4815 - val_loss: 0.7249 - val_accuracy: 0.0000e+00\n",
            "Epoch 2/100\n",
            "12/12 [==============================] - 72s 6s/step - loss: 0.8362 - accuracy: 0.4796 - val_loss: 0.7082 - val_accuracy: 0.0000e+00\n",
            "Epoch 3/100\n",
            "12/12 [==============================] - 37s 3s/step - loss: 0.7986 - accuracy: 0.5015 - val_loss: 0.6825 - val_accuracy: 1.0000\n",
            "Epoch 4/100\n",
            "12/12 [==============================] - 19s 2s/step - loss: 0.7523 - accuracy: 0.5398 - val_loss: 0.6681 - val_accuracy: 1.0000\n",
            "Epoch 5/100\n",
            "12/12 [==============================] - 13s 1s/step - loss: 0.7395 - accuracy: 0.5599 - val_loss: 0.6021 - val_accuracy: 1.0000\n",
            "Epoch 6/100\n",
            "12/12 [==============================] - 8s 654ms/step - loss: 0.7323 - accuracy: 0.5250 - val_loss: 0.5563 - val_accuracy: 1.0000\n",
            "Epoch 7/100\n",
            "12/12 [==============================] - 6s 498ms/step - loss: 0.7101 - accuracy: 0.5405 - val_loss: 0.5140 - val_accuracy: 1.0000\n",
            "Epoch 8/100\n",
            "12/12 [==============================] - 6s 454ms/step - loss: 0.7580 - accuracy: 0.5165 - val_loss: 0.4797 - val_accuracy: 1.0000\n",
            "Epoch 9/100\n",
            "12/12 [==============================] - 5s 436ms/step - loss: 0.7195 - accuracy: 0.5680 - val_loss: 0.4467 - val_accuracy: 1.0000\n",
            "Epoch 10/100\n",
            "12/12 [==============================] - 5s 413ms/step - loss: 0.6869 - accuracy: 0.6225 - val_loss: 0.4153 - val_accuracy: 1.0000\n",
            "Epoch 11/100\n",
            "12/12 [==============================] - 5s 434ms/step - loss: 0.7135 - accuracy: 0.5434 - val_loss: 0.3873 - val_accuracy: 1.0000\n",
            "Epoch 12/100\n",
            "12/12 [==============================] - 5s 418ms/step - loss: 0.7011 - accuracy: 0.5800 - val_loss: 0.4406 - val_accuracy: 1.0000\n",
            "Epoch 13/100\n",
            "12/12 [==============================] - 5s 409ms/step - loss: 0.7187 - accuracy: 0.5812 - val_loss: 0.3610 - val_accuracy: 1.0000\n",
            "Epoch 14/100\n",
            "12/12 [==============================] - 5s 405ms/step - loss: 0.6926 - accuracy: 0.5744 - val_loss: 0.3165 - val_accuracy: 1.0000\n",
            "Epoch 15/100\n",
            "12/12 [==============================] - 5s 410ms/step - loss: 0.7368 - accuracy: 0.5108 - val_loss: 0.2996 - val_accuracy: 1.0000\n",
            "Epoch 16/100\n",
            "12/12 [==============================] - 5s 408ms/step - loss: 0.6734 - accuracy: 0.6308 - val_loss: 0.2794 - val_accuracy: 1.0000\n",
            "Epoch 17/100\n",
            "12/12 [==============================] - 5s 414ms/step - loss: 0.6718 - accuracy: 0.5642 - val_loss: 0.2522 - val_accuracy: 1.0000\n",
            "Epoch 18/100\n",
            "12/12 [==============================] - 5s 409ms/step - loss: 0.6715 - accuracy: 0.5898 - val_loss: 0.2677 - val_accuracy: 1.0000\n",
            "Epoch 19/100\n",
            "12/12 [==============================] - 5s 411ms/step - loss: 0.6886 - accuracy: 0.5749 - val_loss: 0.1975 - val_accuracy: 1.0000\n",
            "Epoch 20/100\n",
            "12/12 [==============================] - 5s 412ms/step - loss: 0.7006 - accuracy: 0.5440 - val_loss: 0.1379 - val_accuracy: 1.0000\n",
            "Epoch 21/100\n",
            "12/12 [==============================] - 5s 410ms/step - loss: 0.7045 - accuracy: 0.5277 - val_loss: 0.1921 - val_accuracy: 1.0000\n",
            "Epoch 22/100\n",
            "12/12 [==============================] - 5s 411ms/step - loss: 0.6730 - accuracy: 0.6017 - val_loss: 0.1816 - val_accuracy: 1.0000\n",
            "Epoch 23/100\n",
            "12/12 [==============================] - 5s 409ms/step - loss: 0.6649 - accuracy: 0.5899 - val_loss: 0.1272 - val_accuracy: 1.0000\n",
            "Epoch 24/100\n",
            "12/12 [==============================] - 5s 409ms/step - loss: 0.6459 - accuracy: 0.6457 - val_loss: 0.0647 - val_accuracy: 1.0000\n",
            "Epoch 25/100\n",
            "12/12 [==============================] - 5s 413ms/step - loss: 0.7028 - accuracy: 0.5535 - val_loss: 0.1114 - val_accuracy: 1.0000\n",
            "Epoch 26/100\n",
            "12/12 [==============================] - 5s 405ms/step - loss: 0.6623 - accuracy: 0.6028 - val_loss: 0.1234 - val_accuracy: 1.0000\n",
            "Epoch 27/100\n",
            "12/12 [==============================] - 5s 413ms/step - loss: 0.6316 - accuracy: 0.6369 - val_loss: 0.1164 - val_accuracy: 1.0000\n",
            "Epoch 28/100\n",
            "12/12 [==============================] - 5s 410ms/step - loss: 0.6920 - accuracy: 0.5865 - val_loss: 0.2077 - val_accuracy: 1.0000\n",
            "Epoch 29/100\n",
            "12/12 [==============================] - 5s 414ms/step - loss: 0.6356 - accuracy: 0.6580 - val_loss: 0.1091 - val_accuracy: 1.0000\n",
            "Epoch 30/100\n",
            "12/12 [==============================] - 5s 410ms/step - loss: 0.6530 - accuracy: 0.5920 - val_loss: 0.0997 - val_accuracy: 1.0000\n",
            "Epoch 31/100\n",
            "12/12 [==============================] - 5s 414ms/step - loss: 0.6145 - accuracy: 0.6590 - val_loss: 0.0655 - val_accuracy: 1.0000\n",
            "Epoch 32/100\n",
            "12/12 [==============================] - 5s 411ms/step - loss: 0.6585 - accuracy: 0.5940 - val_loss: 0.0901 - val_accuracy: 1.0000\n",
            "Epoch 33/100\n",
            "12/12 [==============================] - 5s 416ms/step - loss: 0.6165 - accuracy: 0.6674 - val_loss: 0.1326 - val_accuracy: 1.0000\n",
            "Epoch 34/100\n",
            "12/12 [==============================] - 5s 407ms/step - loss: 0.6147 - accuracy: 0.6669 - val_loss: 0.0992 - val_accuracy: 1.0000\n",
            "Epoch 35/100\n",
            "12/12 [==============================] - 5s 415ms/step - loss: 0.6047 - accuracy: 0.6835 - val_loss: 0.0943 - val_accuracy: 1.0000\n",
            "Epoch 36/100\n",
            "12/12 [==============================] - 5s 412ms/step - loss: 0.6061 - accuracy: 0.6795 - val_loss: 0.1488 - val_accuracy: 1.0000\n",
            "Epoch 37/100\n",
            "12/12 [==============================] - 5s 412ms/step - loss: 0.6261 - accuracy: 0.6344 - val_loss: 0.1452 - val_accuracy: 1.0000\n",
            "Epoch 38/100\n",
            "12/12 [==============================] - 5s 407ms/step - loss: 0.5747 - accuracy: 0.6805 - val_loss: 0.0680 - val_accuracy: 1.0000\n",
            "Epoch 39/100\n",
            "12/12 [==============================] - 5s 411ms/step - loss: 0.5519 - accuracy: 0.7065 - val_loss: 0.0508 - val_accuracy: 1.0000\n",
            "Epoch 40/100\n",
            "12/12 [==============================] - 5s 409ms/step - loss: 0.5736 - accuracy: 0.6676 - val_loss: 0.0479 - val_accuracy: 1.0000\n",
            "Epoch 41/100\n",
            "12/12 [==============================] - 5s 408ms/step - loss: 0.5076 - accuracy: 0.7330 - val_loss: 0.0352 - val_accuracy: 1.0000\n",
            "Epoch 42/100\n",
            "12/12 [==============================] - 5s 412ms/step - loss: 0.5345 - accuracy: 0.7481 - val_loss: 0.0624 - val_accuracy: 1.0000\n",
            "Epoch 43/100\n",
            "12/12 [==============================] - 5s 405ms/step - loss: 0.5158 - accuracy: 0.7191 - val_loss: 0.0386 - val_accuracy: 1.0000\n",
            "Epoch 44/100\n",
            "12/12 [==============================] - 5s 410ms/step - loss: 0.4788 - accuracy: 0.7786 - val_loss: 0.0320 - val_accuracy: 1.0000\n",
            "Epoch 45/100\n",
            "12/12 [==============================] - 5s 409ms/step - loss: 0.5207 - accuracy: 0.7313 - val_loss: 0.0077 - val_accuracy: 1.0000\n",
            "Epoch 46/100\n",
            "12/12 [==============================] - 5s 416ms/step - loss: 0.5898 - accuracy: 0.6972 - val_loss: 0.0414 - val_accuracy: 1.0000\n",
            "Epoch 47/100\n",
            "12/12 [==============================] - 5s 407ms/step - loss: 0.4718 - accuracy: 0.7693 - val_loss: 0.0520 - val_accuracy: 1.0000\n",
            "Epoch 48/100\n",
            "12/12 [==============================] - 5s 409ms/step - loss: 0.4872 - accuracy: 0.7788 - val_loss: 0.0133 - val_accuracy: 1.0000\n",
            "Epoch 49/100\n",
            "12/12 [==============================] - 5s 411ms/step - loss: 0.5197 - accuracy: 0.7394 - val_loss: 0.0775 - val_accuracy: 1.0000\n",
            "Epoch 50/100\n",
            "12/12 [==============================] - 5s 412ms/step - loss: 0.4702 - accuracy: 0.7853 - val_loss: 0.0290 - val_accuracy: 1.0000\n",
            "Epoch 51/100\n",
            "12/12 [==============================] - 5s 410ms/step - loss: 0.5559 - accuracy: 0.6953 - val_loss: 0.0524 - val_accuracy: 1.0000\n",
            "Epoch 52/100\n",
            "12/12 [==============================] - 5s 409ms/step - loss: 0.4526 - accuracy: 0.7723 - val_loss: 0.0805 - val_accuracy: 1.0000\n",
            "Epoch 53/100\n",
            "12/12 [==============================] - 5s 415ms/step - loss: 0.4607 - accuracy: 0.7944 - val_loss: 0.0591 - val_accuracy: 1.0000\n",
            "Epoch 54/100\n",
            "12/12 [==============================] - 5s 408ms/step - loss: 0.4062 - accuracy: 0.8382 - val_loss: 0.0442 - val_accuracy: 1.0000\n",
            "Epoch 55/100\n",
            "12/12 [==============================] - 5s 407ms/step - loss: 0.3918 - accuracy: 0.8209 - val_loss: 0.0361 - val_accuracy: 1.0000\n",
            "Epoch 56/100\n",
            "12/12 [==============================] - 5s 404ms/step - loss: 0.3384 - accuracy: 0.8824 - val_loss: 0.0605 - val_accuracy: 1.0000\n",
            "Epoch 57/100\n",
            "12/12 [==============================] - 5s 414ms/step - loss: 0.4272 - accuracy: 0.7992 - val_loss: 0.0703 - val_accuracy: 1.0000\n",
            "Epoch 58/100\n",
            "12/12 [==============================] - 5s 407ms/step - loss: 0.3857 - accuracy: 0.7883 - val_loss: 0.0375 - val_accuracy: 1.0000\n",
            "Epoch 59/100\n",
            "12/12 [==============================] - 5s 414ms/step - loss: 0.3464 - accuracy: 0.8639 - val_loss: 0.0532 - val_accuracy: 1.0000\n",
            "Epoch 60/100\n",
            "12/12 [==============================] - 5s 411ms/step - loss: 0.3239 - accuracy: 0.8819 - val_loss: 0.0424 - val_accuracy: 1.0000\n",
            "Epoch 61/100\n",
            "12/12 [==============================] - 5s 407ms/step - loss: 0.3399 - accuracy: 0.8517 - val_loss: 0.0344 - val_accuracy: 1.0000\n",
            "Epoch 62/100\n",
            "12/12 [==============================] - 5s 411ms/step - loss: 0.3293 - accuracy: 0.8634 - val_loss: 0.0629 - val_accuracy: 1.0000\n",
            "Epoch 63/100\n",
            "12/12 [==============================] - 5s 411ms/step - loss: 0.3148 - accuracy: 0.8418 - val_loss: 0.0208 - val_accuracy: 1.0000\n",
            "Epoch 64/100\n",
            "12/12 [==============================] - 5s 408ms/step - loss: 0.2735 - accuracy: 0.9064 - val_loss: 0.0829 - val_accuracy: 1.0000\n",
            "Epoch 65/100\n",
            "12/12 [==============================] - 5s 413ms/step - loss: 0.2977 - accuracy: 0.8771 - val_loss: 0.0378 - val_accuracy: 1.0000\n",
            "Epoch 66/100\n",
            "12/12 [==============================] - 5s 408ms/step - loss: 0.2639 - accuracy: 0.8926 - val_loss: 0.0277 - val_accuracy: 1.0000\n",
            "Epoch 67/100\n",
            "12/12 [==============================] - 5s 412ms/step - loss: 0.3071 - accuracy: 0.8470 - val_loss: 0.0426 - val_accuracy: 1.0000\n",
            "Epoch 68/100\n",
            "12/12 [==============================] - 5s 409ms/step - loss: 0.2318 - accuracy: 0.9137 - val_loss: 0.1002 - val_accuracy: 1.0000\n",
            "Epoch 69/100\n",
            "12/12 [==============================] - 5s 412ms/step - loss: 0.2517 - accuracy: 0.8780 - val_loss: 0.0455 - val_accuracy: 1.0000\n",
            "Epoch 70/100\n",
            "12/12 [==============================] - 5s 412ms/step - loss: 0.2506 - accuracy: 0.8993 - val_loss: 0.0376 - val_accuracy: 1.0000\n",
            "Epoch 71/100\n",
            "12/12 [==============================] - 5s 411ms/step - loss: 0.2289 - accuracy: 0.8975 - val_loss: 0.0634 - val_accuracy: 1.0000\n",
            "Epoch 72/100\n",
            "12/12 [==============================] - 5s 409ms/step - loss: 0.2226 - accuracy: 0.9390 - val_loss: 0.0875 - val_accuracy: 0.9688\n",
            "Epoch 73/100\n",
            "12/12 [==============================] - 5s 411ms/step - loss: 0.2510 - accuracy: 0.8832 - val_loss: 0.0358 - val_accuracy: 1.0000\n",
            "Epoch 74/100\n",
            "12/12 [==============================] - 5s 413ms/step - loss: 0.2138 - accuracy: 0.9265 - val_loss: 0.0720 - val_accuracy: 1.0000\n",
            "Epoch 75/100\n",
            "12/12 [==============================] - 5s 408ms/step - loss: 0.2845 - accuracy: 0.8979 - val_loss: 0.0909 - val_accuracy: 1.0000\n",
            "Epoch 76/100\n",
            "12/12 [==============================] - 5s 412ms/step - loss: 0.2165 - accuracy: 0.8793 - val_loss: 0.0379 - val_accuracy: 1.0000\n",
            "Epoch 77/100\n",
            "12/12 [==============================] - 5s 409ms/step - loss: 0.2433 - accuracy: 0.9316 - val_loss: 0.0164 - val_accuracy: 1.0000\n",
            "Epoch 78/100\n",
            "12/12 [==============================] - 5s 410ms/step - loss: 0.1770 - accuracy: 0.9221 - val_loss: 0.0744 - val_accuracy: 0.9688\n",
            "Epoch 79/100\n",
            "12/12 [==============================] - 5s 406ms/step - loss: 0.1550 - accuracy: 0.9547 - val_loss: 0.1777 - val_accuracy: 1.0000\n",
            "Epoch 80/100\n",
            "12/12 [==============================] - 5s 410ms/step - loss: 0.1409 - accuracy: 0.9588 - val_loss: 0.1110 - val_accuracy: 0.9688\n",
            "Epoch 81/100\n",
            "12/12 [==============================] - 5s 410ms/step - loss: 0.1774 - accuracy: 0.9338 - val_loss: 0.0614 - val_accuracy: 1.0000\n",
            "Epoch 82/100\n",
            "12/12 [==============================] - 5s 409ms/step - loss: 0.1745 - accuracy: 0.9461 - val_loss: 0.0995 - val_accuracy: 0.9375\n",
            "Epoch 83/100\n",
            "12/12 [==============================] - 5s 416ms/step - loss: 0.1433 - accuracy: 0.9476 - val_loss: 0.2426 - val_accuracy: 0.8125\n",
            "Epoch 84/100\n",
            "12/12 [==============================] - 5s 410ms/step - loss: 0.1256 - accuracy: 0.9572 - val_loss: 0.0957 - val_accuracy: 1.0000\n",
            "Epoch 85/100\n",
            "12/12 [==============================] - 5s 416ms/step - loss: 0.1859 - accuracy: 0.9178 - val_loss: 0.3813 - val_accuracy: 0.7188\n",
            "Epoch 86/100\n",
            "12/12 [==============================] - 5s 409ms/step - loss: 0.1412 - accuracy: 0.9432 - val_loss: 0.1348 - val_accuracy: 0.9688\n",
            "Epoch 87/100\n",
            "12/12 [==============================] - 5s 410ms/step - loss: 0.1536 - accuracy: 0.9426 - val_loss: 0.2584 - val_accuracy: 0.9062\n",
            "Epoch 88/100\n",
            "12/12 [==============================] - 5s 407ms/step - loss: 0.1615 - accuracy: 0.9481 - val_loss: 0.1363 - val_accuracy: 1.0000\n",
            "Epoch 89/100\n",
            "12/12 [==============================] - 5s 406ms/step - loss: 0.1316 - accuracy: 0.9482 - val_loss: 0.2018 - val_accuracy: 0.9062\n",
            "Epoch 90/100\n",
            "12/12 [==============================] - 5s 412ms/step - loss: 0.1277 - accuracy: 0.9457 - val_loss: 0.0515 - val_accuracy: 1.0000\n",
            "Epoch 91/100\n",
            "12/12 [==============================] - 5s 411ms/step - loss: 0.1725 - accuracy: 0.9474 - val_loss: 0.1435 - val_accuracy: 0.9375\n",
            "Epoch 92/100\n",
            "12/12 [==============================] - 5s 407ms/step - loss: 0.1273 - accuracy: 0.9494 - val_loss: 0.3179 - val_accuracy: 0.7812\n",
            "Epoch 93/100\n",
            "12/12 [==============================] - 5s 413ms/step - loss: 0.1310 - accuracy: 0.9449 - val_loss: 0.1331 - val_accuracy: 0.9062\n",
            "Epoch 94/100\n",
            "12/12 [==============================] - 5s 411ms/step - loss: 0.1096 - accuracy: 0.9596 - val_loss: 0.0402 - val_accuracy: 1.0000\n",
            "Epoch 95/100\n",
            "12/12 [==============================] - 5s 411ms/step - loss: 0.1325 - accuracy: 0.9509 - val_loss: 0.2152 - val_accuracy: 0.8750\n",
            "Epoch 96/100\n",
            "12/12 [==============================] - 5s 418ms/step - loss: 0.1705 - accuracy: 0.9479 - val_loss: 0.0619 - val_accuracy: 1.0000\n",
            "Epoch 97/100\n",
            "12/12 [==============================] - 5s 412ms/step - loss: 0.1084 - accuracy: 0.9702 - val_loss: 0.1357 - val_accuracy: 0.9375\n",
            "Epoch 98/100\n",
            "12/12 [==============================] - 5s 418ms/step - loss: 0.1631 - accuracy: 0.9311 - val_loss: 0.0316 - val_accuracy: 1.0000\n",
            "Epoch 99/100\n",
            "12/12 [==============================] - 5s 414ms/step - loss: 0.1258 - accuracy: 0.9566 - val_loss: 0.0907 - val_accuracy: 1.0000\n",
            "Epoch 100/100\n",
            "12/12 [==============================] - 5s 414ms/step - loss: 0.1059 - accuracy: 0.9761 - val_loss: 0.1638 - val_accuracy: 1.0000\n"
          ],
          "name": "stdout"
        }
      ]
    },
    {
      "cell_type": "code",
      "metadata": {
        "id": "1FlcwS2lh31Y"
      },
      "source": [
        "model.save(\"custom_model.h5\") # save model"
      ],
      "execution_count": 9,
      "outputs": []
    },
    {
      "cell_type": "code",
      "metadata": {
        "id": "U_yMQj8jmPj0"
      },
      "source": [
        "\"\"\"\n",
        "Plot the training and validation loss\n",
        "epochs - list of epoch numbers\n",
        "loss - training loss for each epoch\n",
        "val_loss - validation loss for each epoch\n",
        "\"\"\"\n",
        "def plot_loss(epochs, loss, val_loss):\n",
        "    plt.plot(epochs, loss, 'bo', label='Training Loss')\n",
        "    plt.plot(epochs, val_loss, 'orange', label = 'Validation Loss')\n",
        "    plt.title('Training and Validation Loss')\n",
        "    plt.legend()\n",
        "    plt.show()\n",
        "\"\"\"\n",
        "Plot the training and validation accuracy\n",
        "epochs - list of epoch numbers\n",
        "acc - training accuracy for each epoch\n",
        "val_acc - validation accuracy for each epoch\n",
        "\"\"\"\n",
        "def plot_accuracy(epochs, acc, val_acc):\n",
        "    plt.plot(epochs, acc, 'bo', label='Training accuracy')\n",
        "    plt.plot(epochs, val_acc, 'orange', label = 'Validation accuracy')\n",
        "    plt.title('Training and Validation Accuracy')\n",
        "    plt.legend()\n",
        "    plt.show()"
      ],
      "execution_count": 11,
      "outputs": []
    },
    {
      "cell_type": "code",
      "metadata": {
        "id": "gepHPyf7mX66"
      },
      "source": [
        "acc = history.history['accuracy']\n",
        "val_acc = history.history['val_accuracy']\n",
        "loss = history.history['loss']\n",
        "val_loss = history.history['val_loss']"
      ],
      "execution_count": 12,
      "outputs": []
    },
    {
      "cell_type": "code",
      "metadata": {
        "colab": {
          "base_uri": "https://localhost:8080/",
          "height": 545
        },
        "id": "bMyNtqflmaI3",
        "outputId": "c09107b9-9cd6-4c8f-dcfe-9e94329d9c90"
      },
      "source": [
        "plot_loss(range(1, len(loss) + 1), loss, val_loss)\n",
        "plot_accuracy(range(1, len(loss) + 1), acc, val_acc)"
      ],
      "execution_count": 13,
      "outputs": [
        {
          "output_type": "display_data",
          "data": {
            "image/png": "[encoded data removed]",
            "text/plain": [
              "<Figure size 432x288 with 1 Axes>"
            ]
          },
          "metadata": {
            "tags": [],
            "needs_background": "light"
          }
        },
        {
          "output_type": "display_data",
          "data": {
            "image/png": "[encoded data removed]",
            "text/plain": [
              "<Figure size 432x288 with 1 Axes>"
            ]
          },
          "metadata": {
            "tags": [],
            "needs_background": "light"
          }
        }
      ]
    },
    {
      "cell_type": "code",
      "metadata": {
        "id": "eQv2IeWVmhn4"
      },
      "source": [
        "y_pred = model.predict(test_flow)\n",
        "y_test = test_flow.classes"
      ],
      "execution_count": 14,
      "outputs": []
    },
    {
      "cell_type": "code",
      "metadata": {
        "colab": {
          "base_uri": "https://localhost:8080/"
        },
        "id": "odJ__b-cpHXf",
        "outputId": "48dfe4cf-11df-4bb3-be6e-95419c73ad99"
      },
      "source": [
        "from sklearn import metrics\n",
        "print(\"ROC AUC Score:\", metrics.roc_auc_score(y_test, y_pred))\n",
        "print(\"AP Score:\", metrics.average_precision_score(y_test, y_pred))\n",
        "print()\n",
        "print(metrics.classification_report(y_test, y_pred > 0.5))"
      ],
      "execution_count": 17,
      "outputs": [
        {
          "output_type": "stream",
          "text": [
            "ROC AUC Score: 0.7537272727272728\n",
            "AP Score: 0.8072078867200734\n",
            "\n",
            "              precision    recall  f1-score   support\n",
            "\n",
            "           0       0.64      0.89      0.74       100\n",
            "           1       0.85      0.55      0.66       110\n",
            "\n",
            "    accuracy                           0.71       210\n",
            "   macro avg       0.74      0.72      0.70       210\n",
            "weighted avg       0.75      0.71      0.70       210\n",
            "\n"
          ],
          "name": "stdout"
        }
      ]
    },
    {
      "cell_type": "markdown",
      "metadata": {
        "id": "rx-FUEzHV1AG"
      },
      "source": [
        "NEW MODEL - VGG Face\n"
      ]
    },
    {
      "cell_type": "code",
      "metadata": {
        "colab": {
          "base_uri": "https://localhost:8080/"
        },
        "id": "C0cd9G1mpKU0",
        "outputId": "b058ddbf-a595-4ea6-f7fe-f8f5cccd7b5b"
      },
      "source": [
        "base_path = '/content/drive/MyDrive/deepfake/'\n",
        "image_gen = ImageDataGenerator(rescale=1./255.)\n",
        "batch_size = 64\n",
        "\n",
        "train_flow = image_gen.flow_from_directory(\n",
        "    base_path + 'development/',\n",
        "    target_size=(224, 224),\n",
        "    batch_size=batch_size,\n",
        "    class_mode='binary'\n",
        ")\n",
        "\n",
        "valid_flow = image_gen.flow_from_directory(\n",
        "    base_path + 'validation/',\n",
        "    target_size=(224, 224),\n",
        "    batch_size=batch_size,\n",
        "    class_mode='binary'\n",
        ")\n",
        "\n",
        "test_flow = image_gen.flow_from_directory(\n",
        "    base_path + 'evaluation/',\n",
        "    target_size=(224, 224),\n",
        "    batch_size=1,\n",
        "    shuffle=False,\n",
        "    class_mode='binary'\n",
        ")"
      ],
      "execution_count": 19,
      "outputs": [
        {
          "output_type": "stream",
          "text": [
            "Found 760 images belonging to 2 classes.\n",
            "Found 120 images belonging to 1 classes.\n",
            "Found 210 images belonging to 2 classes.\n"
          ],
          "name": "stdout"
        }
      ]
    },
    {
      "cell_type": "code",
      "metadata": {
        "id": "_oTozOfEWLo7"
      },
      "source": [
        "\"\"\"\n",
        "Plot the training and validation loss\n",
        "epochs - list of epoch numbers\n",
        "loss - training loss for each epoch\n",
        "val_loss - validation loss for each epoch\n",
        "\"\"\"\n",
        "def plot_loss(epochs, loss, val_loss):\n",
        "    plt.plot(epochs, loss, 'bo', label='Training Loss')\n",
        "    plt.plot(epochs, val_loss, 'orange', label = 'Validation Loss')\n",
        "    plt.title('Training and Validation Loss')\n",
        "    plt.legend()\n",
        "    plt.show()\n",
        "    \n",
        "    \n",
        "\"\"\"\n",
        "Plot the training and validation accuracy\n",
        "epochs - list of epoch numbers\n",
        "acc - training accuracy for each epoch\n",
        "val_acc - validation accuracy for each epoch\n",
        "\"\"\"\n",
        "def plot_accuracy(epochs, acc, val_acc):\n",
        "    plt.plot(epochs, acc, 'bo', label='Training accuracy')\n",
        "    plt.plot(epochs, val_acc, 'orange', label = 'Validation accuracy')\n",
        "    plt.title('Training and Validation Accuracy')\n",
        "    plt.legend()\n",
        "    plt.show()"
      ],
      "execution_count": 20,
      "outputs": []
    },
    {
      "cell_type": "code",
      "metadata": {
        "colab": {
          "base_uri": "https://localhost:8080/"
        },
        "id": "-NVVXjnoWW0_",
        "outputId": "4a5f89ed-5b21-4f07-cd9b-6e659bc316a8"
      },
      "source": [
        "vgg_model = VGGFace(include_top=False, input_shape = (224,224,3))\n",
        "\n",
        "last_layer = vgg_model.get_layer('pool5').output\n",
        "flat_layer = Flatten(name='flatten')(last_layer)\n",
        "fc1 = Dense(2048, activation='relu', name='fc1')(flat_layer)\n",
        "dense2 = Dense(1, activation='sigmoid', name='dense2')(fc1)\n",
        "\n",
        "custom_vgg_model = Model(vgg_model.input, dense2)"
      ],
      "execution_count": 21,
      "outputs": [
        {
          "output_type": "stream",
          "text": [
            "Downloading data from https://github.com/rcmalli/keras-vggface/releases/download/v2.0/rcmalli_vggface_tf_notop_vgg16.h5\n",
            "58916864/58909280 [==============================] - 1s 0us/step\n"
          ],
          "name": "stdout"
        }
      ]
    },
    {
      "cell_type": "code",
      "metadata": {
        "id": "F2wVktkTWZMm"
      },
      "source": [
        "from keras.optimizers import RMSprop,SGD,Adam,Adadelta\n",
        "\n",
        "custom_vgg_model.compile(\n",
        "    loss='binary_crossentropy',\n",
        "    optimizer=Adam(0.0002), \n",
        "    metrics=['acc']\n",
        ")"
      ],
      "execution_count": 22,
      "outputs": []
    },
    {
      "cell_type": "code",
      "metadata": {
        "colab": {
          "base_uri": "https://localhost:8080/"
        },
        "id": "Mn301fx-Wdl5",
        "outputId": "42ff531a-f06a-4985-a698-ca34a83d1ba0"
      },
      "source": [
        "train_steps = 1000//batch_size\n",
        "valid_steps = 200//batch_size\n",
        "\n",
        "history = custom_vgg_model.fit_generator(\n",
        "    train_flow,\n",
        "    epochs=5,\n",
        "    steps_per_epoch=train_steps,\n",
        "    validation_data=valid_flow,\n",
        "    validation_steps=valid_steps\n",
        ")"
      ],
      "execution_count": 23,
      "outputs": [
        {
          "output_type": "stream",
          "text": [
            "/usr/local/lib/python3.7/dist-packages/tensorflow/python/keras/engine/training.py:1844: UserWarning: `Model.fit_generator` is deprecated and will be removed in a future version. Please use `Model.fit`, which supports generators.\n",
            "  warnings.warn('`Model.fit_generator` is deprecated and '\n"
          ],
          "name": "stderr"
        },
        {
          "output_type": "stream",
          "text": [
            "Epoch 1/5\n",
            "12/15 [=======================>......] - ETA: 9s - loss: 0.6079 - acc: 0.6605 WARNING:tensorflow:Your input ran out of data; interrupting training. Make sure that your dataset or generator can generate at least `steps_per_epoch * epochs` batches (in this case, 75 batches). You may need to use the repeat() function when building your dataset.\n",
            "WARNING:tensorflow:Your input ran out of data; interrupting training. Make sure that your dataset or generator can generate at least `steps_per_epoch * epochs` batches (in this case, 3 batches). You may need to use the repeat() function when building your dataset.\n",
            "15/15 [==============================] - 64s 3s/step - loss: 0.5790 - acc: 0.6823 - val_loss: 0.0761 - val_acc: 0.9833\n"
          ],
          "name": "stdout"
        }
      ]
    },
    {
      "cell_type": "code",
      "metadata": {
        "id": "fonjHRwKWqVt"
      },
      "source": [
        ""
      ],
      "execution_count": null,
      "outputs": []
    }
  ]
}